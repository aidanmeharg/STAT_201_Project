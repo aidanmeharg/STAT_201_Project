{
 "cells": [
  {
   "cell_type": "markdown",
   "id": "9578a169-add5-49a3-8e27-9b62c40a4c38",
   "metadata": {},
   "source": [
    "# STAT 201 Project Proposal"
   ]
  },
  {
   "cell_type": "markdown",
   "id": "98a97da7-c296-46ae-ba68-784c675f62d8",
   "metadata": {},
   "source": [
    "#### W23 Group 25"
   ]
  },
  {
   "cell_type": "markdown",
   "id": "de6afe8d-99a5-445a-810c-ce9504f89836",
   "metadata": {},
   "source": [
    "## Introduction"
   ]
  },
  {
   "cell_type": "markdown",
   "id": "5ff5b042-e9ef-4dae-8fdd-e124321acd86",
   "metadata": {},
   "source": [
    "Don't need to describe all variables, but definitely the ones we plan to use. Variable descriptions can be found at https://archive.ics.uci.edu/dataset/320/student+performance or check out original paper by Paulo Cortez. \n"
   ]
  },
  {
   "cell_type": "markdown",
   "id": "b40a16b0-d664-40ff-846e-a65899715189",
   "metadata": {},
   "source": [
    "## Preliminary Results"
   ]
  },
  {
   "cell_type": "code",
   "execution_count": 1,
   "id": "64c17e18-cf64-4b0f-b435-6efcb6474808",
   "metadata": {
    "tags": []
   },
   "outputs": [
    {
     "name": "stderr",
     "output_type": "stream",
     "text": [
      "── \u001b[1mAttaching core tidyverse packages\u001b[22m ──────────────────────── tidyverse 2.0.0 ──\n",
      "\u001b[32m✔\u001b[39m \u001b[34mdplyr    \u001b[39m 1.1.3     \u001b[32m✔\u001b[39m \u001b[34mreadr    \u001b[39m 2.1.4\n",
      "\u001b[32m✔\u001b[39m \u001b[34mforcats  \u001b[39m 1.0.0     \u001b[32m✔\u001b[39m \u001b[34mstringr  \u001b[39m 1.5.0\n",
      "\u001b[32m✔\u001b[39m \u001b[34mggplot2  \u001b[39m 3.4.3     \u001b[32m✔\u001b[39m \u001b[34mtibble   \u001b[39m 3.2.1\n",
      "\u001b[32m✔\u001b[39m \u001b[34mlubridate\u001b[39m 1.9.2     \u001b[32m✔\u001b[39m \u001b[34mtidyr    \u001b[39m 1.3.0\n",
      "\u001b[32m✔\u001b[39m \u001b[34mpurrr    \u001b[39m 1.0.1     \n",
      "── \u001b[1mConflicts\u001b[22m ────────────────────────────────────────── tidyverse_conflicts() ──\n",
      "\u001b[31m✖\u001b[39m \u001b[34mdplyr\u001b[39m::\u001b[32mfilter()\u001b[39m masks \u001b[34mstats\u001b[39m::filter()\n",
      "\u001b[31m✖\u001b[39m \u001b[34mdplyr\u001b[39m::\u001b[32mlag()\u001b[39m    masks \u001b[34mstats\u001b[39m::lag()\n",
      "\u001b[36mℹ\u001b[39m Use the conflicted package (\u001b[3m\u001b[34m<http://conflicted.r-lib.org/>\u001b[39m\u001b[23m) to force all conflicts to become errors\n"
     ]
    }
   ],
   "source": [
    "library(tidyverse)"
   ]
  },
  {
   "cell_type": "code",
   "execution_count": 5,
   "id": "87210555-1b39-42b6-9fe2-e492fb46ac72",
   "metadata": {
    "tags": []
   },
   "outputs": [
    {
     "data": {
      "text/html": [
       "<table class=\"dataframe\">\n",
       "<caption>A data.frame: 6 × 33</caption>\n",
       "<thead>\n",
       "\t<tr><th></th><th scope=col>school</th><th scope=col>sex</th><th scope=col>age</th><th scope=col>address</th><th scope=col>famsize</th><th scope=col>Pstatus</th><th scope=col>Medu</th><th scope=col>Fedu</th><th scope=col>Mjob</th><th scope=col>Fjob</th><th scope=col>⋯</th><th scope=col>famrel</th><th scope=col>freetime</th><th scope=col>goout</th><th scope=col>Dalc</th><th scope=col>Walc</th><th scope=col>health</th><th scope=col>absences</th><th scope=col>G1</th><th scope=col>G2</th><th scope=col>G3</th></tr>\n",
       "\t<tr><th></th><th scope=col>&lt;chr&gt;</th><th scope=col>&lt;chr&gt;</th><th scope=col>&lt;int&gt;</th><th scope=col>&lt;chr&gt;</th><th scope=col>&lt;chr&gt;</th><th scope=col>&lt;chr&gt;</th><th scope=col>&lt;int&gt;</th><th scope=col>&lt;int&gt;</th><th scope=col>&lt;chr&gt;</th><th scope=col>&lt;chr&gt;</th><th scope=col>⋯</th><th scope=col>&lt;int&gt;</th><th scope=col>&lt;int&gt;</th><th scope=col>&lt;int&gt;</th><th scope=col>&lt;int&gt;</th><th scope=col>&lt;int&gt;</th><th scope=col>&lt;int&gt;</th><th scope=col>&lt;int&gt;</th><th scope=col>&lt;int&gt;</th><th scope=col>&lt;int&gt;</th><th scope=col>&lt;int&gt;</th></tr>\n",
       "</thead>\n",
       "<tbody>\n",
       "\t<tr><th scope=row>1</th><td>GP</td><td>F</td><td>18</td><td>U</td><td>GT3</td><td>A</td><td>4</td><td>4</td><td>at_home </td><td>teacher </td><td>⋯</td><td>4</td><td>3</td><td>4</td><td>1</td><td>1</td><td>3</td><td> 6</td><td> 5</td><td> 6</td><td> 6</td></tr>\n",
       "\t<tr><th scope=row>2</th><td>GP</td><td>F</td><td>17</td><td>U</td><td>GT3</td><td>T</td><td>1</td><td>1</td><td>at_home </td><td>other   </td><td>⋯</td><td>5</td><td>3</td><td>3</td><td>1</td><td>1</td><td>3</td><td> 4</td><td> 5</td><td> 5</td><td> 6</td></tr>\n",
       "\t<tr><th scope=row>3</th><td>GP</td><td>F</td><td>15</td><td>U</td><td>LE3</td><td>T</td><td>1</td><td>1</td><td>at_home </td><td>other   </td><td>⋯</td><td>4</td><td>3</td><td>2</td><td>2</td><td>3</td><td>3</td><td>10</td><td> 7</td><td> 8</td><td>10</td></tr>\n",
       "\t<tr><th scope=row>4</th><td>GP</td><td>F</td><td>15</td><td>U</td><td>GT3</td><td>T</td><td>4</td><td>2</td><td>health  </td><td>services</td><td>⋯</td><td>3</td><td>2</td><td>2</td><td>1</td><td>1</td><td>5</td><td> 2</td><td>15</td><td>14</td><td>15</td></tr>\n",
       "\t<tr><th scope=row>5</th><td>GP</td><td>F</td><td>16</td><td>U</td><td>GT3</td><td>T</td><td>3</td><td>3</td><td>other   </td><td>other   </td><td>⋯</td><td>4</td><td>3</td><td>2</td><td>1</td><td>2</td><td>5</td><td> 4</td><td> 6</td><td>10</td><td>10</td></tr>\n",
       "\t<tr><th scope=row>6</th><td>GP</td><td>M</td><td>16</td><td>U</td><td>LE3</td><td>T</td><td>4</td><td>3</td><td>services</td><td>other   </td><td>⋯</td><td>5</td><td>4</td><td>2</td><td>1</td><td>2</td><td>5</td><td>10</td><td>15</td><td>15</td><td>15</td></tr>\n",
       "</tbody>\n",
       "</table>\n"
      ],
      "text/latex": [
       "A data.frame: 6 × 33\n",
       "\\begin{tabular}{r|lllllllllllllllllllll}\n",
       "  & school & sex & age & address & famsize & Pstatus & Medu & Fedu & Mjob & Fjob & ⋯ & famrel & freetime & goout & Dalc & Walc & health & absences & G1 & G2 & G3\\\\\n",
       "  & <chr> & <chr> & <int> & <chr> & <chr> & <chr> & <int> & <int> & <chr> & <chr> & ⋯ & <int> & <int> & <int> & <int> & <int> & <int> & <int> & <int> & <int> & <int>\\\\\n",
       "\\hline\n",
       "\t1 & GP & F & 18 & U & GT3 & A & 4 & 4 & at\\_home  & teacher  & ⋯ & 4 & 3 & 4 & 1 & 1 & 3 &  6 &  5 &  6 &  6\\\\\n",
       "\t2 & GP & F & 17 & U & GT3 & T & 1 & 1 & at\\_home  & other    & ⋯ & 5 & 3 & 3 & 1 & 1 & 3 &  4 &  5 &  5 &  6\\\\\n",
       "\t3 & GP & F & 15 & U & LE3 & T & 1 & 1 & at\\_home  & other    & ⋯ & 4 & 3 & 2 & 2 & 3 & 3 & 10 &  7 &  8 & 10\\\\\n",
       "\t4 & GP & F & 15 & U & GT3 & T & 4 & 2 & health   & services & ⋯ & 3 & 2 & 2 & 1 & 1 & 5 &  2 & 15 & 14 & 15\\\\\n",
       "\t5 & GP & F & 16 & U & GT3 & T & 3 & 3 & other    & other    & ⋯ & 4 & 3 & 2 & 1 & 2 & 5 &  4 &  6 & 10 & 10\\\\\n",
       "\t6 & GP & M & 16 & U & LE3 & T & 4 & 3 & services & other    & ⋯ & 5 & 4 & 2 & 1 & 2 & 5 & 10 & 15 & 15 & 15\\\\\n",
       "\\end{tabular}\n"
      ],
      "text/markdown": [
       "\n",
       "A data.frame: 6 × 33\n",
       "\n",
       "| <!--/--> | school &lt;chr&gt; | sex &lt;chr&gt; | age &lt;int&gt; | address &lt;chr&gt; | famsize &lt;chr&gt; | Pstatus &lt;chr&gt; | Medu &lt;int&gt; | Fedu &lt;int&gt; | Mjob &lt;chr&gt; | Fjob &lt;chr&gt; | ⋯ ⋯ | famrel &lt;int&gt; | freetime &lt;int&gt; | goout &lt;int&gt; | Dalc &lt;int&gt; | Walc &lt;int&gt; | health &lt;int&gt; | absences &lt;int&gt; | G1 &lt;int&gt; | G2 &lt;int&gt; | G3 &lt;int&gt; |\n",
       "|---|---|---|---|---|---|---|---|---|---|---|---|---|---|---|---|---|---|---|---|---|---|\n",
       "| 1 | GP | F | 18 | U | GT3 | A | 4 | 4 | at_home  | teacher  | ⋯ | 4 | 3 | 4 | 1 | 1 | 3 |  6 |  5 |  6 |  6 |\n",
       "| 2 | GP | F | 17 | U | GT3 | T | 1 | 1 | at_home  | other    | ⋯ | 5 | 3 | 3 | 1 | 1 | 3 |  4 |  5 |  5 |  6 |\n",
       "| 3 | GP | F | 15 | U | LE3 | T | 1 | 1 | at_home  | other    | ⋯ | 4 | 3 | 2 | 2 | 3 | 3 | 10 |  7 |  8 | 10 |\n",
       "| 4 | GP | F | 15 | U | GT3 | T | 4 | 2 | health   | services | ⋯ | 3 | 2 | 2 | 1 | 1 | 5 |  2 | 15 | 14 | 15 |\n",
       "| 5 | GP | F | 16 | U | GT3 | T | 3 | 3 | other    | other    | ⋯ | 4 | 3 | 2 | 1 | 2 | 5 |  4 |  6 | 10 | 10 |\n",
       "| 6 | GP | M | 16 | U | LE3 | T | 4 | 3 | services | other    | ⋯ | 5 | 4 | 2 | 1 | 2 | 5 | 10 | 15 | 15 | 15 |\n",
       "\n"
      ],
      "text/plain": [
       "  school sex age address famsize Pstatus Medu Fedu Mjob     Fjob     ⋯ famrel\n",
       "1 GP     F   18  U       GT3     A       4    4    at_home  teacher  ⋯ 4     \n",
       "2 GP     F   17  U       GT3     T       1    1    at_home  other    ⋯ 5     \n",
       "3 GP     F   15  U       LE3     T       1    1    at_home  other    ⋯ 4     \n",
       "4 GP     F   15  U       GT3     T       4    2    health   services ⋯ 3     \n",
       "5 GP     F   16  U       GT3     T       3    3    other    other    ⋯ 4     \n",
       "6 GP     M   16  U       LE3     T       4    3    services other    ⋯ 5     \n",
       "  freetime goout Dalc Walc health absences G1 G2 G3\n",
       "1 3        4     1    1    3       6        5  6  6\n",
       "2 3        3     1    1    3       4        5  5  6\n",
       "3 3        2     2    3    3      10        7  8 10\n",
       "4 2        2     1    1    5       2       15 14 15\n",
       "5 3        2     1    2    5       4        6 10 10\n",
       "6 4        2     1    2    5      10       15 15 15"
      ]
     },
     "metadata": {},
     "output_type": "display_data"
    }
   ],
   "source": [
    "students <- read.csv(\"https://raw.githubusercontent.com/aidanmeharg/STAT_201_Project/main/student-mat.csv\", sep = \";\")\n",
    "\n",
    "head(students)"
   ]
  },
  {
   "cell_type": "markdown",
   "id": "6e172984-bbb7-49d0-8ce1-b08cd702e0d2",
   "metadata": {},
   "source": [
    "## Methods"
   ]
  },
  {
   "cell_type": "markdown",
   "id": "8e22cf33-8db5-4bb0-b2af-519984406c2a",
   "metadata": {},
   "source": [
    "HELLO"
   ]
  },
  {
   "cell_type": "markdown",
   "id": "cb37f555-c68e-41bd-b9e6-125a5de5e025",
   "metadata": {},
   "source": [
    "## References"
   ]
  },
  {
   "cell_type": "code",
   "execution_count": null,
   "id": "215ca0a5-6205-43bd-a909-b9a79dacca55",
   "metadata": {},
   "outputs": [],
   "source": []
  }
 ],
 "metadata": {
  "kernelspec": {
   "display_name": "R",
   "language": "R",
   "name": "ir"
  },
  "language_info": {
   "codemirror_mode": "r",
   "file_extension": ".r",
   "mimetype": "text/x-r-source",
   "name": "R",
   "pygments_lexer": "r",
   "version": "4.2.3"
  }
 },
 "nbformat": 4,
 "nbformat_minor": 5
}
