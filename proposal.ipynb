{
 "cells": [
  {
   "cell_type": "markdown",
   "id": "9578a169-add5-49a3-8e27-9b62c40a4c38",
   "metadata": {},
   "source": [
    "# STAT 201 Project Proposal"
   ]
  },
  {
   "cell_type": "markdown",
   "id": "98a97da7-c296-46ae-ba68-784c675f62d8",
   "metadata": {},
   "source": [
    "#### W23 Group 25"
   ]
  },
  {
   "cell_type": "markdown",
   "id": "de6afe8d-99a5-445a-810c-ce9504f89836",
   "metadata": {},
   "source": [
    "## Introduction"
   ]
  },
  {
   "cell_type": "markdown",
   "id": "b40a16b0-d664-40ff-846e-a65899715189",
   "metadata": {},
   "source": [
    "## Preliminary Results"
   ]
  },
  {
   "cell_type": "markdown",
   "id": "6e172984-bbb7-49d0-8ce1-b08cd702e0d2",
   "metadata": {},
   "source": [
    "## Methods"
   ]
  },
  {
   "cell_type": "markdown",
   "id": "cb37f555-c68e-41bd-b9e6-125a5de5e025",
   "metadata": {},
   "source": [
    "## References"
   ]
  },
  {
   "cell_type": "code",
   "execution_count": null,
   "id": "215ca0a5-6205-43bd-a909-b9a79dacca55",
   "metadata": {},
   "outputs": [],
   "source": []
  }
 ],
 "metadata": {
  "kernelspec": {
   "display_name": "R",
   "language": "R",
   "name": "ir"
  },
  "language_info": {
   "codemirror_mode": "r",
   "file_extension": ".r",
   "mimetype": "text/x-r-source",
   "name": "R",
   "pygments_lexer": "r",
   "version": "4.2.3"
  }
 },
 "nbformat": 4,
 "nbformat_minor": 5
}
